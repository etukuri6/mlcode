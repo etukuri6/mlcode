{
 "cells": [
  {
   "cell_type": "code",
   "execution_count": 2,
   "id": "4f1a2ac5",
   "metadata": {},
   "outputs": [
    {
     "name": "stdout",
     "output_type": "stream",
     "text": [
      "Categorical Columns: Index(['MSZoning', 'Street', 'Alley', 'LotShape', 'LandContour', 'Utilities',\n",
      "       'LotConfig', 'LandSlope', 'Neighborhood', 'Condition1', 'Condition2',\n",
      "       'BldgType', 'HouseStyle', 'RoofStyle', 'RoofMatl', 'Exterior1st',\n",
      "       'Exterior2nd', 'MasVnrType', 'ExterQual', 'ExterCond', 'Foundation',\n",
      "       'BsmtQual', 'BsmtCond', 'BsmtExposure', 'BsmtFinType1', 'BsmtFinType2',\n",
      "       'Heating', 'HeatingQC', 'CentralAir', 'Electrical', 'KitchenQual',\n",
      "       'Functional', 'FireplaceQu', 'GarageType', 'GarageFinish', 'GarageQual',\n",
      "       'GarageCond', 'PavedDrive', 'PoolQC', 'Fence', 'MiscFeature',\n",
      "       'SaleType', 'SaleCondition'],\n",
      "      dtype='object')\n"
     ]
    }
   ],
   "source": [
    "import numpy as np\n",
    "import pandas as pd\n",
    "from sklearn.datasets import fetch_openml\n",
    "from sklearn.model_selection import train_test_split\n",
    "from sklearn.preprocessing import StandardScaler\n",
    "\n",
    "# Load the Boston Housing dataset\n",
    "boston = fetch_openml(name=\"house_prices\", as_frame=True)\n",
    "X = boston.data\n",
    "y = boston.target\n",
    "\n",
    "# Identify categorical columns\n",
    "categorical_columns = X.select_dtypes(include=['object']).columns\n",
    "print(\"Categorical Columns:\", categorical_columns)\n",
    "\n",
    "# Convert categorical columns to numeric using one-hot encoding\n",
    "X = pd.get_dummies(X, columns=categorical_columns, drop_first=True)\n",
    "\n",
    "# Preprocess the data\n",
    "scaler = StandardScaler()\n",
    "X = scaler.fit_transform(X)\n",
    "y = np.array(y).flatten()\n",
    "\n",
    "# Train-test split\n",
    "X_train, X_test, y_train, y_test = train_test_split(X, y, test_size=0.2, random_state=42)\n"
   ]
  },
  {
   "cell_type": "code",
   "execution_count": 3,
   "id": "306b5819",
   "metadata": {},
   "outputs": [],
   "source": [
    "from tensorflow.keras.models import Sequential\n",
    "from tensorflow.keras.layers import Dense, Dropout\n",
    "from tensorflow.keras.optimizers import Adam\n",
    "\n",
    "# Define a basic ANN model\n",
    "def create_model(learning_rate=0.01, num_layers=2, num_neurons=64, dropout_rate=0.2):\n",
    "    model = Sequential()\n",
    "    for _ in range(num_layers):\n",
    "        model.add(Dense(num_neurons, activation='relu'))\n",
    "        model.add(Dropout(dropout_rate))\n",
    "    model.add(Dense(1, activation='linear'))  # Regression output\n",
    "    optimizer = Adam(learning_rate=learning_rate)\n",
    "    model.compile(optimizer=optimizer, loss='mse', metrics=['mae'])\n",
    "    return model\n"
   ]
  },
  {
   "cell_type": "code",
   "execution_count": 4,
   "id": "6dd373ad",
   "metadata": {},
   "outputs": [
    {
     "name": "stdout",
     "output_type": "stream",
     "text": [
      "Learning Rate: 0.1, Validation Loss: 5044179968.0\n",
      "Learning Rate: 0.01, Validation Loss: 33109602304.0\n",
      "Learning Rate: 0.001, Validation Loss: 37785948160.0\n"
     ]
    }
   ],
   "source": [
    "# Train models with different learning rates\n",
    "learning_rates = [0.1, 0.01, 0.001]\n",
    "for lr in learning_rates:\n",
    "    model = create_model(learning_rate=lr)\n",
    "    history = model.fit(X_train, y_train, epochs=50, batch_size=32, verbose=0, validation_split=0.2)\n",
    "    val_loss = min(history.history['val_loss'])\n",
    "    print(f\"Learning Rate: {lr}, Validation Loss: {val_loss}\")\n"
   ]
  },
  {
   "cell_type": "code",
   "execution_count": 5,
   "id": "a735fdab",
   "metadata": {},
   "outputs": [
    {
     "name": "stdout",
     "output_type": "stream",
     "text": [
      "Hidden Layers: 1, Validation Loss: 37836795904.0\n",
      "Hidden Layers: 2, Validation Loss: 32596580352.0\n",
      "Hidden Layers: 3, Validation Loss: 5044566528.0\n"
     ]
    }
   ],
   "source": [
    "# Train models with different numbers of hidden layers\n",
    "num_layers = [1, 2, 3]\n",
    "for layers in num_layers:\n",
    "    model = create_model(num_layers=layers)\n",
    "    history = model.fit(X_train, y_train, epochs=50, batch_size=32, verbose=0, validation_split=0.2)\n",
    "    val_loss = min(history.history['val_loss'])\n",
    "    print(f\"Hidden Layers: {layers}, Validation Loss: {val_loss}\")\n"
   ]
  },
  {
   "cell_type": "code",
   "execution_count": 6,
   "id": "bef9b434",
   "metadata": {},
   "outputs": [
    {
     "name": "stdout",
     "output_type": "stream",
     "text": [
      "Neurons per Layer: 32, Validation Loss: 34320420864.0\n",
      "Neurons per Layer: 64, Validation Loss: 33454864384.0\n",
      "Neurons per Layer: 128, Validation Loss: 27126657024.0\n"
     ]
    }
   ],
   "source": [
    "# Train models with different numbers of neurons\n",
    "neurons = [32, 64, 128]\n",
    "for num_neurons in neurons:\n",
    "    model = create_model(num_neurons=num_neurons)\n",
    "    history = model.fit(X_train, y_train, epochs=50, batch_size=32, verbose=0, validation_split=0.2)\n",
    "    val_loss = min(history.history['val_loss'])\n",
    "    print(f\"Neurons per Layer: {num_neurons}, Validation Loss: {val_loss}\")\n"
   ]
  },
  {
   "cell_type": "code",
   "execution_count": 7,
   "id": "dba5309f",
   "metadata": {},
   "outputs": [
    {
     "name": "stderr",
     "output_type": "stream",
     "text": [
      "C:\\Users\\kisho\\anaconda3\\Lib\\site-packages\\keras\\src\\layers\\core\\dense.py:87: UserWarning: Do not pass an `input_shape`/`input_dim` argument to a layer. When using Sequential models, prefer using an `Input(shape)` object as the first layer in the model instead.\n",
      "  super().__init__(activity_regularizer=activity_regularizer, **kwargs)\n"
     ]
    },
    {
     "name": "stdout",
     "output_type": "stream",
     "text": [
      "Activation Function: relu, Validation Loss: 37836795904.0\n",
      "Activation Function: tanh, Validation Loss: nan\n",
      "Activation Function: sigmoid, Validation Loss: nan\n"
     ]
    }
   ],
   "source": [
    "# Train models with different activation functions\n",
    "activations = ['relu', 'tanh', 'sigmoid']\n",
    "for activation in activations:\n",
    "    model = Sequential()\n",
    "    model.add(Dense(64, activation=activation, input_dim=X_train.shape[1]))\n",
    "    model.add(Dense(1, activation='linear'))\n",
    "    model.compile(optimizer=Adam(learning_rate=0.01), loss='mse', metrics=['mae'])\n",
    "    history = model.fit(X_train, y_train, epochs=50, batch_size=32, verbose=0, validation_split=0.2)\n",
    "    val_loss = min(history.history['val_loss'])\n",
    "    print(f\"Activation Function: {activation}, Validation Loss: {val_loss}\")\n"
   ]
  },
  {
   "cell_type": "code",
   "execution_count": 8,
   "id": "c74ec02c",
   "metadata": {},
   "outputs": [
    {
     "name": "stdout",
     "output_type": "stream",
     "text": [
      "Epochs: 20, Validation Loss: 36743430144.0\n",
      "Epochs: 50, Validation Loss: 32097107968.0\n",
      "Epochs: 100, Validation Loss: 20439162880.0\n"
     ]
    }
   ],
   "source": [
    "# Train models with different numbers of epochs\n",
    "epochs_list = [20, 50, 100]\n",
    "for epochs in epochs_list:\n",
    "    model = create_model()\n",
    "    history = model.fit(X_train, y_train, epochs=epochs, batch_size=32, verbose=0, validation_split=0.2)\n",
    "    val_loss = min(history.history['val_loss'])\n",
    "    print(f\"Epochs: {epochs}, Validation Loss: {val_loss}\")\n"
   ]
  },
  {
   "cell_type": "code",
   "execution_count": 9,
   "id": "ab21c396",
   "metadata": {},
   "outputs": [
    {
     "name": "stdout",
     "output_type": "stream",
     "text": [
      "Dropout Rate: 0.1, Validation Loss: 31406993408.0\n",
      "Dropout Rate: 0.3, Validation Loss: 32136060928.0\n",
      "Dropout Rate: 0.5, Validation Loss: 31615543296.0\n"
     ]
    }
   ],
   "source": [
    "# Train models with different dropout rates\n",
    "dropout_rates = [0.1, 0.3, 0.5]\n",
    "for dropout in dropout_rates:\n",
    "    model = create_model(dropout_rate=dropout)\n",
    "    history = model.fit(X_train, y_train, epochs=50, batch_size=32, verbose=0, validation_split=0.2)\n",
    "    val_loss = min(history.history['val_loss'])\n",
    "    print(f\"Dropout Rate: {dropout}, Validation Loss: {val_loss}\")\n"
   ]
  },
  {
   "cell_type": "code",
   "execution_count": 10,
   "id": "aa662a7d",
   "metadata": {},
   "outputs": [
    {
     "name": "stdout",
     "output_type": "stream",
     "text": [
      "Optimizer: Adam, Validation Loss: 37836787712.0\n",
      "Optimizer: SGD, Validation Loss: 5044175872.0\n",
      "Optimizer: RMSprop, Validation Loss: 37836759040.0\n"
     ]
    }
   ],
   "source": [
    "from tensorflow.keras.optimizers import RMSprop, SGD\n",
    "\n",
    "# Train models with different optimizers\n",
    "optimizers = {\n",
    "    'Adam': Adam(learning_rate=0.01),\n",
    "    'SGD': SGD(learning_rate=0.01),\n",
    "    'RMSprop': RMSprop(learning_rate=0.01)\n",
    "}\n",
    "\n",
    "for opt_name, opt in optimizers.items():\n",
    "    model = Sequential()\n",
    "    model.add(Dense(64, activation='relu', input_dim=X_train.shape[1]))\n",
    "    model.add(Dense(1, activation='linear'))\n",
    "    model.compile(optimizer=opt, loss='mse', metrics=['mae'])\n",
    "    history = model.fit(X_train, y_train, epochs=50, batch_size=32, verbose=0, validation_split=0.2)\n",
    "    val_loss = min(history.history['val_loss'])\n",
    "    print(f\"Optimizer: {opt_name}, Validation Loss: {val_loss}\")\n"
   ]
  },
  {
   "cell_type": "code",
   "execution_count": null,
   "id": "245a8a9b",
   "metadata": {},
   "outputs": [],
   "source": []
  }
 ],
 "metadata": {
  "kernelspec": {
   "display_name": "Python 3 (ipykernel)",
   "language": "python",
   "name": "python3"
  },
  "language_info": {
   "codemirror_mode": {
    "name": "ipython",
    "version": 3
   },
   "file_extension": ".py",
   "mimetype": "text/x-python",
   "name": "python",
   "nbconvert_exporter": "python",
   "pygments_lexer": "ipython3",
   "version": "3.11.5"
  }
 },
 "nbformat": 4,
 "nbformat_minor": 5
}
